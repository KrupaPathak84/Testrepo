{
 "cells": [
  {
   "cell_type": "markdown",
   "id": "e1ca3bd5-56a8-4794-ac03-518deebfc945",
   "metadata": {},
   "source": [
    "# Data Science Tools and Ecosystem"
   ]
  },
  {
   "cell_type": "markdown",
   "id": "09d4b799-cdeb-4c6a-af8c-bcc3e30b1cef",
   "metadata": {},
   "source": [
    "In this notebook, Data Science Tools and Ecosystem are summarized.\n",
    "\n",
    "**Objectives:** \n",
    "* List popular languages for Data Science\n",
    "* List of commonly used libraries used by Data Scientists"
   ]
  },
  {
   "cell_type": "markdown",
   "id": "834ca06b-2535-4186-abf3-ef8678651173",
   "metadata": {},
   "source": [
    "Some of the popular languages that Data Scientists use are:\n",
    "1. R\n",
    "2. Python\n",
    "3. SQL"
   ]
  },
  {
   "cell_type": "markdown",
   "id": "4adc6659-d04b-4d11-a336-b494fc924b38",
   "metadata": {},
   "source": [
    "|Data Science Tools|\n",
    "| ----------------- |\n",
    "|Matplotlib|\n",
    "|Jupyter notebook|\n",
    "|Tenserflow|\n",
    "\n"
   ]
  },
  {
   "cell_type": "markdown",
   "id": "b59bd094-2e6a-44e4-8289-19aff307cac7",
   "metadata": {},
   "source": [
    "### Below are a few examples of evaluating arithmetic expressions in Python"
   ]
  },
  {
   "cell_type": "markdown",
   "id": "c19e5df5-c616-44ae-b152-99f6b574ab1b",
   "metadata": {},
   "source": [
    "This a simple arithmetic expression to mutiply\n"
   ]
  },
  {
   "cell_type": "code",
   "execution_count": 3,
   "id": "263379be-4963-42e1-b981-691afce31f33",
   "metadata": {},
   "outputs": [
    {
     "data": {
      "text/plain": [
       "17.0"
      ]
     },
     "execution_count": 3,
     "metadata": {},
     "output_type": "execute_result"
    }
   ],
   "source": [
    "(3*4)+5."
   ]
  },
  {
   "cell_type": "markdown",
   "id": "0fbff6d3-4f92-45b1-92c3-8a678d889a10",
   "metadata": {},
   "source": [
    " This will convert 200 minutes to hours by diving by 60"
   ]
  },
  {
   "cell_type": "code",
   "execution_count": 13,
   "id": "7764b35d-cb52-42aa-a79d-0b817b94689a",
   "metadata": {},
   "outputs": [
    {
     "data": {
      "text/plain": [
       "3.3333333333333335"
      ]
     },
     "execution_count": 13,
     "metadata": {},
     "output_type": "execute_result"
    }
   ],
   "source": [
    "hours=200/60\n",
    "hours"
   ]
  },
  {
   "cell_type": "markdown",
   "id": "098bb4a9-1f7d-44c4-a17e-96c8cb48e37f",
   "metadata": {},
   "source": [
    "## Author\n",
    "Krupa Pathak"
   ]
  },
  {
   "cell_type": "code",
   "execution_count": null,
   "id": "195bb61a-1152-483e-a02e-57d017029ce9",
   "metadata": {},
   "outputs": [],
   "source": []
  }
 ],
 "metadata": {
  "kernelspec": {
   "display_name": "Python [conda env:base] *",
   "language": "python",
   "name": "conda-base-py"
  },
  "language_info": {
   "codemirror_mode": {
    "name": "ipython",
    "version": 3
   },
   "file_extension": ".py",
   "mimetype": "text/x-python",
   "name": "python",
   "nbconvert_exporter": "python",
   "pygments_lexer": "ipython3",
   "version": "3.13.5"
  }
 },
 "nbformat": 4,
 "nbformat_minor": 5
}
